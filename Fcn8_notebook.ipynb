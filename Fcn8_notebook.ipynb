{
 "cells": [
  {
   "cell_type": "markdown",
   "metadata": {},
   "source": [
    "**Running fcn8**"
   ]
  },
  {
   "cell_type": "code",
   "execution_count": 12,
   "metadata": {
    "collapsed": false
   },
   "outputs": [
    {
     "name": "stdout",
     "output_type": "stream",
     "text": [
      "(1, 7, 7, 1000)\n"
     ]
    }
   ],
   "source": [
    "import numpy as np\n",
    "import fcn8\n",
    "reload(fcn8)\n",
    "from fcn8 import Fcn8\n",
    "\n",
    "print_summary = False\n",
    "\n",
    "# load an image\n",
    "IMAGE_SIZE = 224\n",
    "img_shape = (1, IMAGE_SIZE, IMAGE_SIZE, 3) # tf format (N,H,W,C)\n",
    "img = np.linspace(-0.1, 0.5, num=np.prod(img_shape)).reshape(img_shape)\n",
    "\n",
    "# running on one batch\n",
    "fcn = Fcn8()\n",
    "res = fcn.predict(img)\n",
    "print res.shape\n",
    "\n",
    "model = fcn.getModel()\n",
    "if print_summary: \n",
    "    model.summary()\n",
    "\n"
   ]
  },
  {
   "cell_type": "markdown",
   "metadata": {},
   "source": [
    "There are some posibilities for fine tuning a 2-class convnet:\n",
    "Here, I'll try one possibility:\n",
    "1. pop the last Conv2D layer (None, 7, 7, 1000).\n",
    "2. set all layers to NOT TRAINABLE.\n",
    "3. Add a fine tune Conv2D layer of two classes (None, 7, 7, 2). Then train only this layer.\n",
    "\n",
    "In order to train the last (added) 2-class layers, I just add a dense layer at the end with softmax activation.\n",
    "\n",
    "So, let's do this."
   ]
  },
  {
   "cell_type": "code",
   "execution_count": 13,
   "metadata": {
    "collapsed": false
   },
   "outputs": [],
   "source": [
    "# pop out last layer\n",
    "model.pop()\n",
    "if print_summary:\n",
    "    model.summary()"
   ]
  },
  {
   "cell_type": "code",
   "execution_count": 14,
   "metadata": {
    "collapsed": false
   },
   "outputs": [],
   "source": [
    "# set all layers to not trainable\n",
    "for layer in model.layers: layer.trainable = False\n",
    "if print_summary:\n",
    "    model.summary()"
   ]
  },
  {
   "cell_type": "code",
   "execution_count": 15,
   "metadata": {
    "collapsed": true
   },
   "outputs": [],
   "source": [
    "# add a flatten layer\n",
    "from keras.layers.convolutional import Convolution2D\n",
    "\n",
    "model.add(Convolution2D(2, 7, 7, border_mode = 'same'))\n",
    "if print_summary:\n",
    "    model.summary()"
   ]
  },
  {
   "cell_type": "code",
   "execution_count": 16,
   "metadata": {
    "collapsed": false
   },
   "outputs": [
    {
     "name": "stdout",
     "output_type": "stream",
     "text": [
      "____________________________________________________________________________________________________\n",
      "Layer (type)                     Output Shape          Param #     Connected to                     \n",
      "====================================================================================================\n",
      "lambda_5 (Lambda)                (None, 224, 224, 3)   0           lambda_input_5[0][0]             \n",
      "____________________________________________________________________________________________________\n",
      "convolution2d_67 (Convolution2D) (None, 224, 224, 64)  0           lambda_5[0][0]                   \n",
      "____________________________________________________________________________________________________\n",
      "convolution2d_68 (Convolution2D) (None, 224, 224, 64)  0           convolution2d_67[0][0]           \n",
      "____________________________________________________________________________________________________\n",
      "maxpooling2d_21 (MaxPooling2D)   (None, 112, 112, 64)  0           convolution2d_68[0][0]           \n",
      "____________________________________________________________________________________________________\n",
      "convolution2d_69 (Convolution2D) (None, 112, 112, 128) 0           maxpooling2d_21[0][0]            \n",
      "____________________________________________________________________________________________________\n",
      "convolution2d_70 (Convolution2D) (None, 112, 112, 128) 0           convolution2d_69[0][0]           \n",
      "____________________________________________________________________________________________________\n",
      "maxpooling2d_22 (MaxPooling2D)   (None, 56, 56, 128)   0           convolution2d_70[0][0]           \n",
      "____________________________________________________________________________________________________\n",
      "convolution2d_71 (Convolution2D) (None, 56, 56, 256)   0           maxpooling2d_22[0][0]            \n",
      "____________________________________________________________________________________________________\n",
      "convolution2d_72 (Convolution2D) (None, 56, 56, 256)   0           convolution2d_71[0][0]           \n",
      "____________________________________________________________________________________________________\n",
      "convolution2d_73 (Convolution2D) (None, 56, 56, 256)   0           convolution2d_72[0][0]           \n",
      "____________________________________________________________________________________________________\n",
      "maxpooling2d_23 (MaxPooling2D)   (None, 28, 28, 256)   0           convolution2d_73[0][0]           \n",
      "____________________________________________________________________________________________________\n",
      "convolution2d_74 (Convolution2D) (None, 28, 28, 512)   0           maxpooling2d_23[0][0]            \n",
      "____________________________________________________________________________________________________\n",
      "convolution2d_75 (Convolution2D) (None, 28, 28, 512)   0           convolution2d_74[0][0]           \n",
      "____________________________________________________________________________________________________\n",
      "convolution2d_76 (Convolution2D) (None, 28, 28, 512)   0           convolution2d_75[0][0]           \n",
      "____________________________________________________________________________________________________\n",
      "maxpooling2d_24 (MaxPooling2D)   (None, 14, 14, 512)   0           convolution2d_76[0][0]           \n",
      "____________________________________________________________________________________________________\n",
      "convolution2d_77 (Convolution2D) (None, 14, 14, 512)   0           maxpooling2d_24[0][0]            \n",
      "____________________________________________________________________________________________________\n",
      "convolution2d_78 (Convolution2D) (None, 14, 14, 512)   0           convolution2d_77[0][0]           \n",
      "____________________________________________________________________________________________________\n",
      "convolution2d_79 (Convolution2D) (None, 14, 14, 512)   0           convolution2d_78[0][0]           \n",
      "____________________________________________________________________________________________________\n",
      "maxpooling2d_25 (MaxPooling2D)   (None, 7, 7, 512)     0           convolution2d_79[0][0]           \n",
      "____________________________________________________________________________________________________\n",
      "convolution2d_80 (Convolution2D) (None, 7, 7, 4096)    0           maxpooling2d_25[0][0]            \n",
      "____________________________________________________________________________________________________\n",
      "convolution2d_81 (Convolution2D) (None, 7, 7, 4096)    0           convolution2d_80[0][0]           \n",
      "____________________________________________________________________________________________________\n",
      "convolution2d_83 (Convolution2D) (None, 7, 7, 2)       401410                                       \n",
      "____________________________________________________________________________________________________\n",
      "flatten_2 (Flatten)              (None, 98)            0                                            \n",
      "____________________________________________________________________________________________________\n",
      "dense_2 (Dense)                  (None, 2)             198                                          \n",
      "====================================================================================================\n",
      "Total params: 401608\n",
      "____________________________________________________________________________________________________\n"
     ]
    }
   ],
   "source": [
    "# add dense layer from (None, 200704) ---> (None, 2)\n",
    "from keras.layers.core import Dense, Flatten\n",
    "\n",
    "# first flatten the last layer\n",
    "model.add(Flatten())\n",
    "# then input it to a dense layer\n",
    "model.add(Dense(2, activation='softmax'))\n",
    "if True: \n",
    "    model.summary()\n"
   ]
  },
  {
   "cell_type": "markdown",
   "metadata": {
    "collapsed": true
   },
   "source": [
    "from here what we have to do is to learn the parametters - they are \n",
    "Once this is done, what we have to do is to remove the last two layers dense_2 and flatten_2 and continue the flow of fcn8.\n",
    "some notes:\n",
    "1. here the params of convolution2d_83 are NOT initialized. it may be interesting to initialize them using \n",
    "   the scheme describe in https://github.com/MarvinTeichmann/tensorflow-fcn/blob/master/fcn8_vgg.py\n",
    "   and check if the training is improving (accuracy + speed) or not."
   ]
  }
 ],
 "metadata": {
  "kernelspec": {
   "display_name": "Python 2",
   "language": "python",
   "name": "python2"
  },
  "language_info": {
   "codemirror_mode": {
    "name": "ipython",
    "version": 2
   },
   "file_extension": ".py",
   "mimetype": "text/x-python",
   "name": "python",
   "nbconvert_exporter": "python",
   "pygments_lexer": "ipython2",
   "version": "2.7.10"
  }
 },
 "nbformat": 4,
 "nbformat_minor": 1
}
