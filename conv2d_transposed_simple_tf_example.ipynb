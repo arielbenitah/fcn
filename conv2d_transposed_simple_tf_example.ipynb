{
 "cells": [
  {
   "cell_type": "markdown",
   "metadata": {},
   "source": [
    "**Build Image**\n",
    "\n",
    "Build a simple 3 x 3 image with the following values:\n",
    "\n",
    "img = [0.00 0.16 0.33\n",
    "       0.16 0.33 0.50\n",
    "       0.33 0.50 0.66]\n"
   ]
  },
  {
   "cell_type": "code",
   "execution_count": 30,
   "metadata": {
    "collapsed": false,
    "scrolled": false
   },
   "outputs": [
    {
     "name": "stdout",
     "output_type": "stream",
     "text": [
      "[[ 0.          0.16666667  0.33333333]\n",
      " [ 0.16666667  0.33333333  0.5       ]\n",
      " [ 0.33333333  0.5         0.66666667]]\n"
     ]
    },
    {
     "data": {
      "text/plain": [
       "<matplotlib.image.AxesImage at 0x7ff8cb2b4450>"
      ]
     },
     "execution_count": 30,
     "metadata": {},
     "output_type": "execute_result"
    },
    {
     "data": {
      "image/png": "[encoded data removed]",
      "text/plain": [
       "<matplotlib.figure.Figure at 0x7ff8f4038910>"
      ]
     },
     "metadata": {},
     "output_type": "display_data"
    }
   ],
   "source": [
    "import numpy as np\n",
    "from math import ceil\n",
    "\n",
    "%matplotlib inline\n",
    "from numpy import ogrid, repeat, newaxis\n",
    "from skimage import io\n",
    "\n",
    "imsize = 3.\n",
    "x, y = ogrid[:imsize, :imsize]\n",
    "img = (x + y)/(imsize + imsize)\n",
    "print img\n",
    "io.imshow(img, interpolation='none', cmap='gray')"
   ]
  },
  {
   "cell_type": "markdown",
   "metadata": {},
   "source": [
    "Now, in order to upsample this grid by 3, we need to pad the grid with zeros:"
   ]
  },
  {
   "cell_type": "code",
   "execution_count": 33,
   "metadata": {
    "collapsed": false
   },
   "outputs": [
    {
     "name": "stdout",
     "output_type": "stream",
     "text": [
      "[[ 0.          0.          0.          0.          0.          0.          0.\n",
      "   0.          0.        ]\n",
      " [ 0.          0.          0.          0.          0.16666667  0.          0.\n",
      "   0.33333333  0.        ]\n",
      " [ 0.          0.          0.          0.          0.          0.          0.\n",
      "   0.          0.        ]\n",
      " [ 0.          0.          0.          0.          0.          0.          0.\n",
      "   0.          0.        ]\n",
      " [ 0.          0.16666667  0.          0.          0.33333333  0.          0.\n",
      "   0.5         0.        ]\n",
      " [ 0.          0.          0.          0.          0.          0.          0.\n",
      "   0.          0.        ]\n",
      " [ 0.          0.          0.          0.          0.          0.          0.\n",
      "   0.          0.        ]\n",
      " [ 0.          0.33333333  0.          0.          0.5         0.          0.\n",
      "   0.66666667  0.        ]\n",
      " [ 0.          0.          0.          0.          0.          0.          0.\n",
      "   0.          0.        ]]\n"
     ]
    }
   ],
   "source": [
    "# let f be the upsampling factor\n",
    "f = 3 # We'll see bellow that it's possible to \n",
    "# calculate this factor from the filter width\n",
    "# let I be the padded image\n",
    "I_shape = (9,9)\n",
    "I = np.zeros(I_shape)\n",
    "I[1::f, 1::f] = img\n",
    "print I"
   ]
  },
  {
   "cell_type": "markdown",
   "metadata": {},
   "source": [
    "Now, the game is to upsample the image above using a 2d convolution \n",
    "and a bilinear filter. How to do this?\n",
    "A bilinear filter in 1d looks as follow:\n",
    "\n",
    "f(x) = 1 - |x| for |x| < 1, \n",
    "     = 0 elsewhere\n",
    "     \n",
    "Then, in 2d it's a 2d triangle that looks like this:     \n",
    "f(x,y) = (1 - |x|) * (1 - |y|) for |x| < 1, |y| < 1,\n",
    "       = 0 elsewhere\n",
    "       \n",
    "So, in order to build a bilinear upsampling kernel the following as to be done:"
   ]
  },
  {
   "cell_type": "code",
   "execution_count": 34,
   "metadata": {
    "collapsed": false
   },
   "outputs": [
    {
     "name": "stdout",
     "output_type": "stream",
     "text": [
      "[[ 0.11111111  0.22222222  0.33333333  0.22222222  0.11111111]\n",
      " [ 0.22222222  0.44444444  0.66666667  0.44444444  0.22222222]\n",
      " [ 0.33333333  0.66666667  1.          0.66666667  0.33333333]\n",
      " [ 0.22222222  0.44444444  0.66666667  0.44444444  0.22222222]\n",
      " [ 0.11111111  0.22222222  0.33333333  0.22222222  0.11111111]]\n"
     ]
    }
   ],
   "source": [
    " def upsample_filter(f_shape):\n",
    "    width = f_shape[0]\n",
    "    heigh = f_shape[1]\n",
    "    f = ceil(width/2.0)\n",
    "    c = (2 * f - 1 - f % 2) / (2.0 * f)\n",
    "    bilinear = np.zeros([f_shape[0], f_shape[1]])\n",
    "    for x in range(width):\n",
    "        for y in range(heigh):\n",
    "            bilinear[x, y] = (1 - abs(x / f - c)) * (1 - abs(y / f - c))\n",
    "            \n",
    "    return bilinear\n",
    "\n",
    "f_shape = (5,5)\n",
    "filter = upsample_filter(f_shape)\n",
    "print filter"
   ]
  },
  {
   "cell_type": "markdown",
   "metadata": {},
   "source": [
    "Now that we have the filter with shape f_filter and the padded image I with shape I_shape,\n",
    "we can upsample the image I ( == padded img) using a convolution with filter 'filter'"
   ]
  },
  {
   "cell_type": "code",
   "execution_count": 38,
   "metadata": {
    "collapsed": false
   },
   "outputs": [
    {
     "data": {
      "image/png": "[encoded data removed]",
      "text/plain": [
       "<matplotlib.figure.Figure at 0x7ff8cb10a790>"
      ]
     },
     "metadata": {},
     "output_type": "display_data"
    }
   ],
   "source": [
    "import tensorflow as tf\n",
    "\n",
    "# The padded image\n",
    "x_shape = (9,9)\n",
    "x = np.zeros(x_shape)\n",
    "x[1::f, 1::f] = img\n",
    "\n",
    "# The filter\n",
    "w_shape = (5,5)\n",
    "w = upsample_filter(w_shape)\n",
    "\n",
    "# signal dimension\n",
    "N = 1; C = 1; H = 9; W = 9;\n",
    "\n",
    "# filter dimensions\n",
    "F = 1; C = 1; Hh = 5; Ww = 5;\n",
    "\n",
    "# Convolution (S)tride and (P)ad\n",
    "S = 1; P = 1;\n",
    "\n",
    "# shape of the padded image\n",
    "x_shape = (N,C,H,W)\n",
    "\n",
    "# shape of the filter\n",
    "w_shape = (F,C,Hh,Ww)\n",
    "\n",
    "# expand signal dimensions (H, W) ---> (N,C,H,W)\n",
    "x = x[None, None, ...]\n",
    "\n",
    "# expand filter dimensions (Hh, Ww) ---> (F, C, Hh, Ww)\n",
    "w = w[None, None, ...]\n",
    "\n",
    "# convert to format accepetd by tf\n",
    "x = np.transpose(x,[0, 2, 3, 1]) # convert to format NHWC accepetd by tf\n",
    "w = np.transpose(w,[2, 3, 1, 0]) # convert to format HWCF accepted by tf\n",
    "\n",
    "conv2d_graph = tf.Graph()\n",
    "\n",
    "with conv2d_graph.as_default():\n",
    "    # define placeholders to tf\n",
    "    tf_x = tf.Variable(x, name=\"x\", dtype=tf.float32)\n",
    "    tf_w = tf.Variable(w, name=\"w\", dtype=tf.float32)\n",
    "\n",
    "    # build graph\n",
    "    conv = tf.nn.conv2d(tf_x, tf_w, strides=[1, S, S, 1], padding=\"SAME\", data_format=\"NHWC\")\n",
    "\n",
    "    # init graph\n",
    "    init = tf.initialize_all_variables()\n",
    "    session = tf.Session()\n",
    "    session.run(init)\n",
    "\n",
    "    # run session\n",
    "    result = session.run(conv)\n",
    "    session.close()\n",
    "\n",
    "    result = np.transpose(result, [0, 3, 1, 2]) # convert to format NCHW - more readable format!\n",
    "\n",
    "    img_conv2d = result[0, 0, :, :]\n",
    "    io.imshow(img_conv2d, interpolation='none', cmap='gray')\n",
    "    # print 'result = ', img_conv2d"
   ]
  },
  {
   "cell_type": "markdown",
   "metadata": {},
   "source": [
    "Now let's do the same **without** convolution, only by using an upsampling \n",
    "convolution:"
   ]
  },
  {
   "cell_type": "code",
   "execution_count": 39,
   "metadata": {
    "collapsed": false,
    "scrolled": true
   },
   "outputs": [
    {
     "data": {
      "text/plain": [
       "True"
      ]
     },
     "execution_count": 39,
     "metadata": {},
     "output_type": "execute_result"
    },
    {
     "data": {
      "image/png": "[encoded data removed]",
      "text/plain": [
       "<matplotlib.figure.Figure at 0x7ff8cb4174d0>"
      ]
     },
     "metadata": {},
     "output_type": "display_data"
    }
   ],
   "source": [
    "import skimage.transform\n",
    "\n",
    "def upsample_skimage(factor, input_img):\n",
    "    \n",
    "    # Pad with 0 values, similar to how Tensorflow does it.\n",
    "    # Order=1 is bilinear upsampling\n",
    "    return skimage.transform.rescale(input_img,\n",
    "                                     factor,\n",
    "                                     mode='constant',\n",
    "                                     cval=0,\n",
    "                                     order=1)\n",
    "\n",
    "\n",
    "upsampled_img_skimage = upsample_skimage(factor=3, input_img=img)\n",
    "# print sub_upsampled_img_skimage\n",
    "io.imshow(upsampled_img_skimage, interpolation='none')\n",
    "\n",
    "# Test if the results of upsampling are the same\n",
    "np.allclose(upsampled_img_skimage, img_conv2d)\n",
    "\n",
    "\n"
   ]
  },
  {
   "cell_type": "markdown",
   "metadata": {},
   "source": [
    "**Transposed Convolution**\n",
    "\n",
    "Let's now check how we do that with transposed convoution in tf.\n",
    "In fact, what we want to prove is that conv2d(0 padded img, filter) == conv2d_transposed(img, filter)?\n",
    "When you use transposed convolution, you don't need to pad the input image"
   ]
  },
  {
   "cell_type": "code",
   "execution_count": 44,
   "metadata": {
    "collapsed": false
   },
   "outputs": [
    {
     "data": {
      "image/png": "[encoded data removed]",
      "text/plain": [
       "<matplotlib.figure.Figure at 0x7ff8cad2b650>"
      ]
     },
     "metadata": {},
     "output_type": "display_data"
    }
   ],
   "source": [
    "# The original image (no need to pad it)\n",
    "x = img\n",
    "\n",
    "# The filter\n",
    "w_shape = (5,5)\n",
    "w = upsample_filter(w_shape)\n",
    "\n",
    "# signal dimension\n",
    "N = 1; C = 1; H = 3; W = 3;\n",
    "\n",
    "# filter dimensions\n",
    "F = 1; C = 1; Hh = 5; Ww = 5;\n",
    "\n",
    "# Convolution (S)tride and (P)ad\n",
    "S = 1; P = 1;\n",
    "\n",
    "# shape of the padded image\n",
    "x_shape = (N,C,H,W)\n",
    "\n",
    "# shape of the filter\n",
    "w_shape = (F,C,Hh,Ww)\n",
    "\n",
    "# expand signal dimensions (H, W) ---> (N,C,H,W)\n",
    "x = x[None, None, ...]\n",
    "\n",
    "# expand filter dimensions (Hh, Ww) ---> (F, C, Hh, Ww)\n",
    "w = w[None, None, ...]\n",
    "\n",
    "# convert to format accepetd by tf\n",
    "x = np.transpose(x,[0, 2, 3, 1]) # convert to format NHWC accepetd by tf\n",
    "w = np.transpose(w,[2, 3, 1, 0]) # convert to format HWCF accepted by tf\n",
    "\n",
    "conv2d_t_graph = tf.Graph()\n",
    "\n",
    "with conv2d_t_graph.as_default():\n",
    "    # define placeholders to tf\n",
    "    tf_x = tf.Variable(x, name=\"x\", dtype=tf.float32)\n",
    "    tf_w = tf.Variable(w, name=\"w\", dtype=tf.float32)\n",
    "\n",
    "    # transposed convolution\n",
    "    factor = 3 # upsample the image by 3\n",
    "    out_height = img.shape[0] * factor\n",
    "    out_width  = img.shape[1] * factor\n",
    "    num_class = C\n",
    "    \n",
    "\n",
    "    conv_t = tf.nn.conv2d_transpose(tf_x, \n",
    "                                    tf_w, \n",
    "                                    output_shape=[1, out_height, out_width, num_class], \n",
    "                                    strides = [1, factor, factor, 1])\n",
    "\n",
    "    init = tf.initialize_all_variables()\n",
    "\n",
    "    session = tf.Session()\n",
    "    # init graph\n",
    "    session.run(init)\n",
    "    # run session\n",
    "    result = session.run(conv_t)\n",
    "    result = np.transpose(result, [0, 3, 1, 2]) # convert to format NCHW - more readable format!\n",
    "    session.close()\n",
    "\n",
    "    img_conv2d_t = result[0, 0, :, :]\n",
    "    io.imshow(img_conv2d_t, interpolation='none', cmap='gray')"
   ]
  },
  {
   "cell_type": "code",
   "execution_count": 45,
   "metadata": {
    "collapsed": false
   },
   "outputs": [
    {
     "data": {
      "text/plain": [
       "True"
      ]
     },
     "execution_count": 45,
     "metadata": {},
     "output_type": "execute_result"
    }
   ],
   "source": [
    "# check the difference between conv2d and conv2d_transposed\n",
    "np.allclose(img_conv2d_t, img_conv2d)"
   ]
  },
  {
   "cell_type": "code",
   "execution_count": null,
   "metadata": {
    "collapsed": true
   },
   "outputs": [],
   "source": []
  }
 ],
 "metadata": {
  "kernelspec": {
   "display_name": "Python 2",
   "language": "python",
   "name": "python2"
  },
  "language_info": {
   "codemirror_mode": {
    "name": "ipython",
    "version": 2
   },
   "file_extension": ".py",
   "mimetype": "text/x-python",
   "name": "python",
   "nbconvert_exporter": "python",
   "pygments_lexer": "ipython2",
   "version": "2.7.10"
  }
 },
 "nbformat": 4,
 "nbformat_minor": 1
}
